{
 "cells": [
  {
   "cell_type": "markdown",
   "metadata": {},
   "source": [
    "### Write a function called factorial that returns the factorial of number passed in."
   ]
  },
  {
   "cell_type": "code",
   "execution_count": 3,
   "metadata": {},
   "outputs": [
    {
     "name": "stdout",
     "output_type": "stream",
     "text": [
      "120\n"
     ]
    }
   ],
   "source": [
    "class Answer:\n",
    "    \n",
    "    def factorial(num):\n",
    "        if(type(num) == int and num >= 0):\n",
    "            Total = 1\n",
    "            while(num > 0):\n",
    "                Total = Total * num\n",
    "                num = num - 1\n",
    "            return Total\n",
    "        else:\n",
    "            return None\n",
    "\n",
    "number = 5\n",
    "result = Answer.factorial(number)\n",
    "print(result)"
   ]
  }
 ],
 "metadata": {
  "kernelspec": {
   "display_name": "base",
   "language": "python",
   "name": "python3"
  },
  "language_info": {
   "codemirror_mode": {
    "name": "ipython",
    "version": 3
   },
   "file_extension": ".py",
   "mimetype": "text/x-python",
   "name": "python",
   "nbconvert_exporter": "python",
   "pygments_lexer": "ipython3",
   "version": "3.11.5"
  }
 },
 "nbformat": 4,
 "nbformat_minor": 2
}
